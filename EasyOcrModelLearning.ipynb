{
 "cells": [
  {
   "cell_type": "code",
   "execution_count": 1,
   "id": "9c08cf32-1736-4cf3-87fc-783e37076e9b",
   "metadata": {},
   "outputs": [
    {
     "name": "stderr",
     "output_type": "stream",
     "text": [
      "fatal: destination path 'TextRecognitionDataGenerator' already exists and is not an empty directory.\n"
     ]
    }
   ],
   "source": [
    "!git clone https://github.com/Belval/TextRecognitionDataGenerator.git"
   ]
  },
  {
   "cell_type": "code",
   "execution_count": 28,
   "id": "1e5cde0a-6013-4cbc-8b7f-333e63f68ce8",
   "metadata": {},
   "outputs": [
    {
     "name": "stdout",
     "output_type": "stream",
     "text": [
      "C:\\workspace_project\\jupyter_lab\\Test1\n"
     ]
    }
   ],
   "source": [
    "%cd C:\\workspace_project\\jupyter_lab\\Test1"
   ]
  },
  {
   "cell_type": "code",
   "execution_count": 21,
   "id": "20434272-6f52-41e9-bb56-683e38c5bf7b",
   "metadata": {},
   "outputs": [
    {
     "name": "stdout",
     "output_type": "stream",
     "text": [
      "[WinError 2] 지정된 파일을 찾을 수 없습니다: 'TextRecognitionDataGenerator'\n",
      "C:\\workspace_project\\jupyter_lab\\Test1\\TextRecognitionDataGenerator\n"
     ]
    }
   ],
   "source": [
    "%cd TextRecognitionDataGenerator"
   ]
  },
  {
   "cell_type": "code",
   "execution_count": 29,
   "id": "22580877-8ed9-4ec3-a387-757ac370a518",
   "metadata": {},
   "outputs": [
    {
     "name": "stdout",
     "output_type": "stream",
     "text": [
      "C:\\workspace_project\\jupyter_lab\\Test1\\TRDG2DTRB\n"
     ]
    }
   ],
   "source": [
    "%cd TRDG2DTRB"
   ]
  },
  {
   "cell_type": "code",
   "execution_count": 35,
   "id": "db22d7b3-24ab-40db-bb23-3da868582150",
   "metadata": {},
   "outputs": [
    {
     "name": "stdout",
     "output_type": "stream",
     "text": [
      "input path:  C:\\workspace_project\\jupyter_lab\\Test1\\TextRecognitionDataGenerator\\out\n",
      "output path:  C:\\workspace_project\\jupyter_lab\\Test1\\TRDG2DTRB\\output\n",
      "\n",
      "Output folder already exists.\n",
      "\n",
      "So, delete all data of output folder [C:\\workspace_project\\jupyter_lab\\Test1\\TRDG2DTRB\\output]\n",
      "\n",
      "Total file count:  89\n",
      "\n",
      "Conversion complete!\n",
      "\n"
     ]
    }
   ],
   "source": [
    "!python convert.py --input_path ../TextRecognitionDataGenerator/out/ --output_path ./output"
   ]
  },
  {
   "cell_type": "code",
   "execution_count": null,
   "id": "e9c225f8-70df-461c-81cf-5ad34fa0e29e",
   "metadata": {},
   "outputs": [],
   "source": []
  }
 ],
 "metadata": {
  "kernelspec": {
   "display_name": "Python 3 (ipykernel)",
   "language": "python",
   "name": "python3"
  },
  "language_info": {
   "codemirror_mode": {
    "name": "ipython",
    "version": 3
   },
   "file_extension": ".py",
   "mimetype": "text/x-python",
   "name": "python",
   "nbconvert_exporter": "python",
   "pygments_lexer": "ipython3",
   "version": "3.11.5"
  }
 },
 "nbformat": 4,
 "nbformat_minor": 5
}
