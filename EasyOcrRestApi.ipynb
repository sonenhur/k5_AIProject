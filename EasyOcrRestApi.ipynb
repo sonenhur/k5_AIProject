{
 "cells": [
  {
   "cell_type": "code",
   "execution_count": null,
   "metadata": {},
   "outputs": [],
   "source": [
    "import os\n",
    "os.chdir(\"C:/workspace_project/AIproject/apps/minimalapp\")"
   ]
  },
  {
   "cell_type": "code",
   "execution_count": null,
   "metadata": {},
   "outputs": [],
   "source": [
    "%pip install requests"
   ]
  },
  {
   "cell_type": "code",
   "execution_count": null,
   "metadata": {},
   "outputs": [],
   "source": [
    "import requests\n",
    "\n",
    "url = \"http://127.0.0.1:5000/ocr\"\n",
    "files = {\"file\": open(\"C:/workspace_project/AIproject/ocr-preprocessor-main/receipt_preprocessed.jpg\", \"rb\")}\n",
    "response = requests.post(url, files=files)\n",
    "print(response.json())"
   ]
  },
  {
   "cell_type": "code",
   "execution_count": null,
   "metadata": {},
   "outputs": [],
   "source": [
    "# import requests\n",
    "# import base64\n",
    "# from PIL import Image\n",
    "# import io\n",
    "\n",
    "# # 이미지를 받는 엔드포인트 URL\n",
    "# url = \"http://172.23.224.1:5000/send_image\"\n",
    "\n",
    "# # GET 요청을 보냅니다.\n",
    "# response = requests.get(url)\n",
    "\n",
    "# # 응답에서 이미지 데이터를 추출합니다.\n",
    "# image_data = response.json()[\"image\"]\n",
    "\n",
    "# # Base64 디코딩하여 이미지로 변환합니다.\n",
    "# decoded_image = base64.b64decode(image_data)\n",
    "\n",
    "# # 이미지를 표시합니다.\n",
    "# image = Image.open(io.BytesIO(decoded_image))\n",
    "# image.show()"
   ]
  },
  {
   "cell_type": "code",
   "execution_count": null,
   "metadata": {},
   "outputs": [],
   "source": [
    "from PIL import Image\n",
    "import os\n",
    "\n",
    "# 이미지 파일 경로 설정\n",
    "image_path = \"C:/workspace_project/AIproject/workspace/demo_images\"  # Flask 서버에서 저장한 이미지 파일 경로\n",
    "\n",
    "# 이미지 파일이 실제로 존재하는지 확인\n",
    "if os.path.exists(image_path):\n",
    "    # 이미지 파일 열기\n",
    "    img = Image.open(image_path)\n",
    "    # 이미지 표시\n",
    "    img.show()\n",
    "else:\n",
    "    print(\"Image file does not exist.\")"
   ]
  }
 ],
 "metadata": {
  "kernelspec": {
   "display_name": ".venv",
   "language": "python",
   "name": "python3"
  },
  "language_info": {
   "codemirror_mode": {
    "name": "ipython",
    "version": 3
   },
   "file_extension": ".py",
   "mimetype": "text/x-python",
   "name": "python",
   "nbconvert_exporter": "python",
   "pygments_lexer": "ipython3",
   "version": "3.12.0"
  }
 },
 "nbformat": 4,
 "nbformat_minor": 2
}
