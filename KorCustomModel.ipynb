{
 "cells": [
  {
   "cell_type": "markdown",
   "metadata": {},
   "source": [
    "# 0.환경설정"
   ]
  },
  {
   "cell_type": "code",
   "execution_count": null,
   "metadata": {},
   "outputs": [],
   "source": [
    "#%git clone https://github.com/Belval/TextRecognitionDataGenerator.git\n",
    "#%git clone https://github.com/DaveLogs/TRDG2DTRB.git"
   ]
  },
  {
   "cell_type": "code",
   "execution_count": null,
   "metadata": {},
   "outputs": [],
   "source": [
    "import os\n",
    "os.chdir(\"C:/workspace_project/AIproject/TextRecognitionDataGenerator\")"
   ]
  },
  {
   "cell_type": "code",
   "execution_count": null,
   "metadata": {},
   "outputs": [],
   "source": [
    "# %pip install -r requirements.txt"
   ]
  },
  {
   "cell_type": "code",
   "execution_count": null,
   "metadata": {},
   "outputs": [],
   "source": [
    "# %pip install -r requirements-hw.txt"
   ]
  },
  {
   "cell_type": "code",
   "execution_count": null,
   "metadata": {},
   "outputs": [],
   "source": [
    "# %pip install torch torchvision torchaudio --index-url https://download.pytorch.org/whl/cu121"
   ]
  },
  {
   "cell_type": "code",
   "execution_count": 1,
   "metadata": {},
   "outputs": [
    {
     "name": "stdout",
     "output_type": "stream",
     "text": [
      "True\n"
     ]
    }
   ],
   "source": [
    "import torch\n",
    "print(torch.cuda.is_available())"
   ]
  },
  {
   "cell_type": "code",
   "execution_count": 2,
   "metadata": {},
   "outputs": [
    {
     "data": {
      "text/plain": [
       "'c:\\\\workspace_project\\\\AIproject'"
      ]
     },
     "execution_count": 2,
     "metadata": {},
     "output_type": "execute_result"
    }
   ],
   "source": [
    "import os\n",
    "os.getcwd()"
   ]
  },
  {
   "cell_type": "markdown",
   "metadata": {},
   "source": [
    "# 1.학습데이터 생성"
   ]
  },
  {
   "cell_type": "code",
   "execution_count": null,
   "metadata": {},
   "outputs": [],
   "source": [
    "import os\n",
    "os.chdir(\"C:/workspace_project/AIproject/TextRecognitionDataGenerator/trdg\")"
   ]
  },
  {
   "cell_type": "code",
   "execution_count": null,
   "metadata": {},
   "outputs": [],
   "source": [
    "# TextRecognitionDataGenerator 프로젝트를 이용해 한글 학습데이터 생성하기\n",
    "# TextRecognitionDataGenerator 프로젝트 root에서 실행\n",
    "\n",
    "# training: 100,00개\n",
    "!python run.py \\\n",
    "        --output_dir \"../.././workspace/step1/trainingpr\" \\\n",
    "        --language \"ko\" \\\n",
    "        --count 200000"
   ]
  },
  {
   "cell_type": "code",
   "execution_count": null,
   "metadata": {},
   "outputs": [],
   "source": [
    "import os\n",
    "import shutil\n",
    "import random\n",
    "\n",
    "# 이미지 파일이 있는 디렉토리\n",
    "src_dir = \"../.././workspace/step1/trainingpr\"\n",
    "\n",
    "# 훈련 데이터와 검증 데이터를 저장할 디렉토리\n",
    "train_dir = \"../.././workspace/step1/trainingprt\"\n",
    "valid_dir = \"../.././workspace/step1/validationprt\"\n",
    "\n",
    "# 디렉토리 생성\n",
    "os.makedirs(train_dir, exist_ok=True)\n",
    "os.makedirs(valid_dir, exist_ok=True)\n",
    "\n",
    "# 이미지 파일 목록 가져오기\n",
    "files = os.listdir(src_dir)\n",
    "\n",
    "# 파일 목록을 무작위로 섞기\n",
    "random.shuffle(files)\n",
    "\n",
    "# 80-20 비율로 나누기\n",
    "split_idx = int(len(files) * 0.8)\n",
    "train_files = files[:split_idx]\n",
    "valid_files = files[split_idx:]\n",
    "\n",
    "# 파일을 훈련 데이터와 검증 데이터 디렉토리로 이동\n",
    "for file in train_files:\n",
    "    shutil.move(os.path.join(src_dir, file), train_dir)\n",
    "\n",
    "for file in valid_files:\n",
    "    shutil.move(os.path.join(src_dir, file), valid_dir)"
   ]
  },
  {
   "cell_type": "code",
   "execution_count": null,
   "metadata": {},
   "outputs": [],
   "source": [
    "import os\n",
    "os.chdir('C:/workspace_project/AIproject/TRDG2DTRB')\n",
    "os.getcwd()"
   ]
  },
  {
   "cell_type": "code",
   "execution_count": null,
   "metadata": {},
   "outputs": [],
   "source": [
    "# TRDG2DTRB 프로젝트를 이용해 한글 학습데이터 변환하기\n",
    "# TRDG2DTRB 프로젝트 root에서 실행\n",
    "\n",
    "# train 학습데이터 변환\n",
    "!python convert.py \\\n",
    "        --input_path \".././workspace/step1/trainingprt\" \\\n",
    "        --output_path \".././workspace/step2/trainingprt\"\n",
    "\n",
    "# validation 학습데이터 변환\n",
    "!python convert.py \\\n",
    "        --input_path \".././workspace/step1/validationprt\" \\\n",
    "        --output_path \".././workspace/step2/validationprt\"\n",
    "\n",
    "# # test 학습데이터 변환\n",
    "# !python3 convert.py \\\n",
    "#         --input_path \".././workspace/step1/testprt\" \\\n",
    "#         --output_path \".././workspace/step2/testprt\""
   ]
  },
  {
   "cell_type": "code",
   "execution_count": null,
   "metadata": {},
   "outputs": [],
   "source": [
    "import os\n",
    "os.chdir('C:/workspace_project/AIproject/deep-text-recognition-benchmark')\n",
    "os.getcwd()"
   ]
  },
  {
   "cell_type": "code",
   "execution_count": null,
   "metadata": {},
   "outputs": [],
   "source": [
    "%pip install fire lmdb"
   ]
  },
  {
   "cell_type": "code",
   "execution_count": null,
   "metadata": {},
   "outputs": [],
   "source": [
    "# deep-text-recognition-benchmark 프로젝트로 학습데이터를 lmdb포맷으로 변환\n",
    "# deep-text-recognition-benchmark 프로젝트 root에서 실행\n",
    "\n",
    "# training 데이터 변환\n",
    "!python create_lmdb_dataset.py \\\n",
    "        --inputPath \".././workspace/step2/trainingprt/\" \\\n",
    "        --gtFile \".././workspace/step2/trainingprt/gt.txt\" \\\n",
    "        --outputPath \".././workspace/step3/trainingprt\"\n",
    "\n",
    "# validation 데이터 변환\n",
    "!python create_lmdb_dataset.py \\\n",
    "        --inputPath \".././workspace/step2/validationprt/\" \\\n",
    "        --gtFile \".././workspace/step2/validationprt/gt.txt\" \\\n",
    "        --outputPath \".././workspace/step3/validationprt\"\n",
    "\n",
    "# # test 데이터 변환\n",
    "# !python create_lmdb_dataset.py \\\n",
    "#         --inputPath \".././workspace/step2/testprt/\" \\\n",
    "#         --gtFile \".././workspace/step2/testprt/gt.txt\" \\\n",
    "#         --outputPath \".././workspace/step3/testprt\""
   ]
  },
  {
   "cell_type": "markdown",
   "metadata": {},
   "source": [
    "# 2.학습데이터 변환"
   ]
  },
  {
   "cell_type": "code",
   "execution_count": 4,
   "metadata": {},
   "outputs": [
    {
     "data": {
      "text/plain": [
       "'C:\\\\workspace_project\\\\AIproject\\\\deep-text-recognition-benchmark'"
      ]
     },
     "execution_count": 4,
     "metadata": {},
     "output_type": "execute_result"
    }
   ],
   "source": [
    "import os\n",
    "os.chdir('C:/workspace_project/AIproject/deep-text-recognition-benchmark')\n",
    "os.getcwd()"
   ]
  },
  {
   "cell_type": "code",
   "execution_count": 5,
   "metadata": {},
   "outputs": [
    {
     "name": "stdout",
     "output_type": "stream",
     "text": [
      "Written 1000 / 242722\n",
      "Written 2000 / 242722\n",
      "Written 3000 / 242722\n",
      "Written 4000 / 242722\n",
      "Written 5000 / 242722\n",
      "Written 6000 / 242722\n",
      "Written 7000 / 242722\n",
      "Written 8000 / 242722\n",
      "Written 9000 / 242722\n",
      "Written 10000 / 242722\n",
      "Written 11000 / 242722\n",
      "Written 12000 / 242722\n",
      "Written 13000 / 242722\n",
      "Written 14000 / 242722\n",
      "Written 15000 / 242722\n",
      "Written 16000 / 242722\n",
      "Written 17000 / 242722\n",
      "Written 18000 / 242722\n",
      "Written 19000 / 242722\n",
      "Written 20000 / 242722\n",
      "Written 21000 / 242722\n",
      "Written 22000 / 242722\n",
      "Written 23000 / 242722\n",
      "Written 24000 / 242722\n",
      "Written 25000 / 242722\n",
      "Written 26000 / 242722\n",
      "Written 27000 / 242722\n",
      "Written 28000 / 242722\n",
      "Written 29000 / 242722\n",
      "Written 30000 / 242722\n",
      "Written 31000 / 242722\n",
      "Written 32000 / 242722\n",
      "Written 33000 / 242722\n",
      "Written 34000 / 242722\n",
      "Written 35000 / 242722\n",
      "Written 36000 / 242722\n",
      "Written 37000 / 242722\n",
      "Written 38000 / 242722\n",
      "Written 39000 / 242722\n",
      "Written 40000 / 242722\n",
      "Written 41000 / 242722\n",
      "Written 42000 / 242722\n",
      "Written 43000 / 242722\n",
      "Written 44000 / 242722\n",
      "Written 45000 / 242722\n",
      "Written 46000 / 242722\n",
      "Written 47000 / 242722\n",
      "Written 48000 / 242722\n",
      "Written 49000 / 242722\n",
      "Written 50000 / 242722\n",
      "Written 51000 / 242722\n",
      "Written 52000 / 242722\n",
      "Written 53000 / 242722\n",
      "Written 54000 / 242722\n",
      "Written 55000 / 242722\n",
      "Written 56000 / 242722\n",
      "Written 57000 / 242722\n",
      "Written 58000 / 242722\n",
      "Written 59000 / 242722\n",
      "Written 60000 / 242722\n",
      "Written 61000 / 242722\n",
      "Written 62000 / 242722\n",
      "Written 63000 / 242722\n",
      "Written 64000 / 242722\n",
      "Written 65000 / 242722\n",
      "Written 66000 / 242722\n",
      "Written 67000 / 242722\n",
      "Written 68000 / 242722\n",
      "Written 69000 / 242722\n",
      "Written 70000 / 242722\n",
      "Written 71000 / 242722\n",
      "Written 72000 / 242722\n",
      "Written 73000 / 242722\n",
      "Written 74000 / 242722\n",
      "Written 75000 / 242722\n",
      "Written 76000 / 242722\n",
      "Written 77000 / 242722\n",
      "Written 78000 / 242722\n",
      "Written 79000 / 242722\n",
      "Written 80000 / 242722\n",
      "Written 81000 / 242722\n",
      "Written 82000 / 242722\n",
      "Written 83000 / 242722\n",
      "Written 84000 / 242722\n",
      "Written 85000 / 242722\n",
      "Written 86000 / 242722\n",
      "Written 87000 / 242722\n",
      "Written 88000 / 242722\n",
      "Written 89000 / 242722\n",
      "Written 90000 / 242722\n",
      "Written 91000 / 242722\n",
      "Written 92000 / 242722\n",
      "Written 93000 / 242722\n",
      "Written 94000 / 242722\n",
      "Written 95000 / 242722\n",
      "Written 96000 / 242722\n",
      "Written 97000 / 242722\n",
      "Written 98000 / 242722\n",
      "Written 99000 / 242722\n",
      "Written 100000 / 242722\n",
      "Written 101000 / 242722\n",
      "Written 102000 / 242722\n",
      "Written 103000 / 242722\n",
      "Written 104000 / 242722\n",
      "Written 105000 / 242722\n",
      "Written 106000 / 242722\n",
      "Written 107000 / 242722\n",
      "Written 108000 / 242722\n",
      "Written 109000 / 242722\n",
      "Written 110000 / 242722\n",
      "Written 111000 / 242722\n",
      "Written 112000 / 242722\n",
      "Written 113000 / 242722\n",
      "Written 114000 / 242722\n",
      "Written 115000 / 242722\n",
      "Written 116000 / 242722\n",
      "Written 117000 / 242722\n",
      "Written 118000 / 242722\n",
      "Written 119000 / 242722\n",
      "Written 120000 / 242722\n",
      "Written 121000 / 242722\n",
      "Written 122000 / 242722\n",
      "Written 123000 / 242722\n",
      "Written 124000 / 242722\n",
      "Written 125000 / 242722\n",
      "Written 126000 / 242722\n",
      "Written 127000 / 242722\n",
      "Written 128000 / 242722\n",
      "Written 129000 / 242722\n",
      "Written 130000 / 242722\n",
      "Written 131000 / 242722\n",
      "Written 132000 / 242722\n",
      "Written 133000 / 242722\n",
      "Written 134000 / 242722\n",
      "Written 135000 / 242722\n",
      "Written 136000 / 242722\n",
      "Written 137000 / 242722\n",
      "Written 138000 / 242722\n",
      "Written 139000 / 242722\n",
      "Written 140000 / 242722\n",
      "Written 141000 / 242722\n",
      "Written 142000 / 242722\n",
      "Written 143000 / 242722\n",
      "Written 144000 / 242722\n",
      "Written 145000 / 242722\n",
      "Written 146000 / 242722\n",
      "Written 147000 / 242722\n",
      "Written 148000 / 242722\n",
      "Written 149000 / 242722\n",
      "Written 150000 / 242722\n",
      "Written 151000 / 242722\n",
      "Written 152000 / 242722\n",
      "Written 153000 / 242722\n",
      "Written 154000 / 242722\n",
      "Written 155000 / 242722\n",
      "Written 156000 / 242722\n",
      "Written 157000 / 242722\n",
      "Written 158000 / 242722\n",
      "Written 159000 / 242722\n",
      "Written 160000 / 242722\n",
      "Written 161000 / 242722\n",
      "Written 162000 / 242722\n",
      "Written 163000 / 242722\n",
      "Written 164000 / 242722\n",
      "Written 165000 / 242722\n",
      "Written 166000 / 242722\n",
      "Written 167000 / 242722\n",
      "Written 168000 / 242722\n",
      "Written 169000 / 242722\n",
      "Written 170000 / 242722\n",
      "Written 171000 / 242722\n",
      "Written 172000 / 242722\n",
      "Written 173000 / 242722\n",
      "Written 174000 / 242722\n",
      "Written 175000 / 242722\n",
      "Written 176000 / 242722\n",
      "Written 177000 / 242722\n",
      "Written 178000 / 242722\n",
      "Written 179000 / 242722\n",
      "Written 180000 / 242722\n",
      "Written 181000 / 242722\n",
      "Written 182000 / 242722\n",
      "Written 183000 / 242722\n",
      "Written 184000 / 242722\n",
      "Written 185000 / 242722\n",
      "Written 186000 / 242722\n",
      "Written 187000 / 242722\n",
      "Written 188000 / 242722\n",
      "Written 189000 / 242722\n",
      "Written 190000 / 242722\n",
      "Written 191000 / 242722\n",
      "Written 192000 / 242722\n",
      "Written 193000 / 242722\n",
      "Written 194000 / 242722\n",
      "Written 195000 / 242722\n",
      "Written 196000 / 242722\n",
      "Written 197000 / 242722\n",
      "Written 198000 / 242722\n",
      "Written 199000 / 242722\n",
      "Written 200000 / 242722\n",
      "Written 201000 / 242722\n",
      "Written 202000 / 242722\n",
      "Written 203000 / 242722\n",
      "Written 204000 / 242722\n",
      "Written 205000 / 242722\n",
      "Written 206000 / 242722\n",
      "Written 207000 / 242722\n",
      "Written 208000 / 242722\n",
      "Written 209000 / 242722\n",
      "Written 210000 / 242722\n",
      "Written 211000 / 242722\n",
      "Written 212000 / 242722\n",
      "Written 213000 / 242722\n",
      "Written 214000 / 242722\n",
      "Written 215000 / 242722\n",
      "Written 216000 / 242722\n",
      "Written 217000 / 242722\n",
      "Written 218000 / 242722\n",
      "Written 219000 / 242722\n",
      "Written 220000 / 242722\n",
      "Written 221000 / 242722\n",
      "Written 222000 / 242722\n",
      "Written 223000 / 242722\n",
      "Written 224000 / 242722\n",
      "Written 225000 / 242722\n",
      "Written 226000 / 242722\n",
      "Written 227000 / 242722\n",
      "Written 228000 / 242722\n",
      "Written 229000 / 242722\n",
      "Written 230000 / 242722\n",
      "Written 231000 / 242722\n",
      "Written 232000 / 242722\n",
      "Written 233000 / 242722\n",
      "Written 234000 / 242722\n",
      "Written 235000 / 242722\n",
      "Written 236000 / 242722\n",
      "Written 237000 / 242722\n",
      "Written 238000 / 242722\n",
      "Written 239000 / 242722\n",
      "Written 240000 / 242722\n",
      "Written 241000 / 242722\n",
      "Written 242000 / 242722\n",
      "Created dataset with 242722 samples\n"
     ]
    }
   ],
   "source": [
    "!python create_lmdb_dataset.py \\\n",
    "        --inputPath \"C:/workspace_project/korean_characters/Training/[원천]Training_필기체/1.글자\" \\\n",
    "        --gtFile \"C:/workspace_project/korean_characters/Training/[원천]Training_필기체/1.글자/gt.txt\" \\\n",
    "        --outputPath \"C:/workspace_project/AIproject/workspace/AIHubData/byChars/Training\"\n"
   ]
  },
  {
   "cell_type": "code",
   "execution_count": 6,
   "metadata": {},
   "outputs": [
    {
     "name": "stdout",
     "output_type": "stream",
     "text": [
      "Written 1000 / 33114\n",
      "Written 2000 / 33114\n",
      "Written 3000 / 33114\n",
      "Written 4000 / 33114\n",
      "Written 5000 / 33114\n",
      "Written 6000 / 33114\n",
      "Written 7000 / 33114\n",
      "Written 8000 / 33114\n",
      "Written 9000 / 33114\n",
      "Written 10000 / 33114\n",
      "Written 11000 / 33114\n",
      "Written 12000 / 33114\n",
      "Written 13000 / 33114\n",
      "Written 14000 / 33114\n",
      "Written 15000 / 33114\n",
      "Written 16000 / 33114\n",
      "Written 17000 / 33114\n",
      "Written 18000 / 33114\n",
      "Written 19000 / 33114\n",
      "Written 20000 / 33114\n",
      "Written 21000 / 33114\n",
      "Written 22000 / 33114\n",
      "Written 23000 / 33114\n",
      "Written 24000 / 33114\n",
      "Written 25000 / 33114\n",
      "Written 26000 / 33114\n",
      "Written 27000 / 33114\n",
      "Written 28000 / 33114\n",
      "Written 29000 / 33114\n",
      "Written 30000 / 33114\n",
      "Written 31000 / 33114\n",
      "Written 32000 / 33114\n",
      "Written 33000 / 33114\n",
      "Created dataset with 33114 samples\n"
     ]
    }
   ],
   "source": [
    "!python create_lmdb_dataset.py \\\n",
    "        --inputPath \"C:/workspace_project/korean_characters/validation/[원천]validation_필기체/1.글자\" \\\n",
    "        --gtFile \"C:/workspace_project/korean_characters/validation/[원천]validation_필기체/1.글자/gt.txt\" \\\n",
    "        --outputPath \"C:/workspace_project/AIproject/workspace/AIHubData/byChars/validation\""
   ]
  },
  {
   "cell_type": "code",
   "execution_count": 8,
   "metadata": {},
   "outputs": [
    {
     "name": "stdout",
     "output_type": "stream",
     "text": [
      "Written 1000 / 34164\n",
      "Written 2000 / 34164\n",
      "Written 3000 / 34164\n",
      "Written 4000 / 34164\n",
      "Written 5000 / 34164\n",
      "Written 6000 / 34164\n",
      "Written 7000 / 34164\n",
      "Written 8000 / 34164\n",
      "Written 9000 / 34164\n",
      "Written 10000 / 34164\n",
      "Written 11000 / 34164\n",
      "Written 12000 / 34164\n",
      "Written 13000 / 34164\n",
      "Written 14000 / 34164\n",
      "Written 15000 / 34164\n",
      "Written 16000 / 34164\n",
      "Written 17000 / 34164\n",
      "Written 18000 / 34164\n",
      "Written 19000 / 34164\n",
      "Written 20000 / 34164\n",
      "Written 21000 / 34164\n",
      "Written 22000 / 34164\n",
      "Written 23000 / 34164\n",
      "Written 24000 / 34164\n",
      "Written 25000 / 34164\n",
      "Written 26000 / 34164\n",
      "Written 27000 / 34164\n",
      "Written 28000 / 34164\n",
      "Written 29000 / 34164\n",
      "Written 30000 / 34164\n",
      "Written 31000 / 34164\n",
      "Written 32000 / 34164\n",
      "Written 33000 / 34164\n",
      "Written 34000 / 34164\n",
      "Created dataset with 34164 samples\n"
     ]
    }
   ],
   "source": [
    "!python create_lmdb_dataset.py \\\n",
    "        --inputPath \"C:/workspace_project/korean_characters/test/[원천]test_필기체/1.글자\" \\\n",
    "        --gtFile \"C:/workspace_project/korean_characters/test/[원천]test_필기체/1.글자/gt.txt\" \\\n",
    "        --outputPath \"C:/workspace_project/AIproject/workspace/AIHubData/byChars/test\""
   ]
  },
  {
   "cell_type": "markdown",
   "metadata": {},
   "source": [
    "# 3.커스텀모델 학습"
   ]
  },
  {
   "cell_type": "code",
   "execution_count": null,
   "metadata": {},
   "outputs": [],
   "source": [
    "# !git clone https://github.com/clovaai/deep-text-recognition-benchmark.git"
   ]
  },
  {
   "cell_type": "code",
   "execution_count": null,
   "metadata": {},
   "outputs": [],
   "source": [
    "%pip install lmdb pillow torchvision nltk natsort\n"
   ]
  },
  {
   "cell_type": "code",
   "execution_count": 9,
   "metadata": {},
   "outputs": [],
   "source": [
    "import os\n",
    "os.chdir('C:/workspace_project/AIproject/deep-text-recognition-benchmark')"
   ]
  },
  {
   "cell_type": "code",
   "execution_count": null,
   "metadata": {},
   "outputs": [],
   "source": [
    "# # deep-text-recognition-benchmark 프로젝트를 이용한 모델 학습\n",
    "# # deep-text-recognition-benchmark 프로젝트 root에서 실행\n",
    "# !python train.py \\\n",
    "#         --train_data \".././workspace/AIHubData/byWords/Training/\" \\\n",
    "#         --valid_data \".././workspace/AIHubData/byWords/Validation/\" \\\n",
    "#         --select_data / \\\n",
    "#         --batch_ratio 1 \\\n",
    "#         --batch_size 128 \\\n",
    "#         --Transformation None  \\\n",
    "#         --FeatureExtraction VGG \\\n",
    "#         --SequenceModeling BiLSTM \\\n",
    "#         --Prediction CTC \\\n",
    "#         --workers 0 \\\n",
    "#         --num_iter 1000 \\\n",
    "#         --valInterval 100 \\\n",
    "#         --input_channel 1 \\\n",
    "#         --output_channel 256 \\\n",
    "#         --hidden_size 256 \\\n",
    "#         --saved_model \".././workspace/pre_trained_model/korean_g2.pth\" \\\n",
    "#         --FT"
   ]
  },
  {
   "cell_type": "code",
   "execution_count": 10,
   "metadata": {},
   "outputs": [
    {
     "name": "stdout",
     "output_type": "stream",
     "text": [
      "Filtering the images containing characters which are not in opt.character\n",
      "Filtering the images whose label is longer than opt.batch_max_length\n",
      "--------------------------------------------------------------------------------\n",
      "dataset_root: C:/workspace_project/AIproject/workspace/AIHubData/byChars/Training/\n",
      "opt.select_data: ['/']\n",
      "opt.batch_ratio: ['1']\n",
      "--------------------------------------------------------------------------------\n",
      "dataset_root:    C:/workspace_project/AIproject/workspace/AIHubData/byChars/Training/\t dataset: /\n",
      "sub-directory:\t/.\t num samples: 95113\n",
      "num total samples of /: 95113 x 1.0 (total_data_usage_ratio) = 95113\n",
      "num samples of / per batch: 192 x 1.0 (batch_ratio) = 192\n",
      "--------------------------------------------------------------------------------\n",
      "Total_batch_size: 192 = 192\n",
      "--------------------------------------------------------------------------------\n",
      "dataset_root:    C:/workspace_project/AIproject/workspace/AIHubData/byChars/Validation/\t dataset: /\n",
      "sub-directory:\t/.\t num samples: 12975\n",
      "--------------------------------------------------------------------------------\n",
      "No Transformation module specified\n",
      "model input parameters 32 100 20 1 256 256 1009 25 None VGG BiLSTM CTC\n",
      "loading pretrained model from C:/workspace_project/AIproject/workspace/pre_trained_model/korean_g2.pth\n",
      "Model:\n",
      "DataParallel(\n",
      "  (module): Model(\n",
      "    (FeatureExtraction): VGG_FeatureExtractor(\n",
      "      (ConvNet): Sequential(\n",
      "        (0): Conv2d(1, 32, kernel_size=(3, 3), stride=(1, 1), padding=(1, 1))\n",
      "        (1): ReLU(inplace=True)\n",
      "        (2): MaxPool2d(kernel_size=2, stride=2, padding=0, dilation=1, ceil_mode=False)\n",
      "        (3): Conv2d(32, 64, kernel_size=(3, 3), stride=(1, 1), padding=(1, 1))\n",
      "        (4): ReLU(inplace=True)\n",
      "        (5): MaxPool2d(kernel_size=2, stride=2, padding=0, dilation=1, ceil_mode=False)\n",
      "        (6): Conv2d(64, 128, kernel_size=(3, 3), stride=(1, 1), padding=(1, 1))\n",
      "        (7): ReLU(inplace=True)\n",
      "        (8): Conv2d(128, 128, kernel_size=(3, 3), stride=(1, 1), padding=(1, 1))\n",
      "        (9): ReLU(inplace=True)\n",
      "        (10): MaxPool2d(kernel_size=(2, 1), stride=(2, 1), padding=0, dilation=1, ceil_mode=False)\n",
      "        (11): Conv2d(128, 256, kernel_size=(3, 3), stride=(1, 1), padding=(1, 1), bias=False)\n",
      "        (12): BatchNorm2d(256, eps=1e-05, momentum=0.1, affine=True, track_running_stats=True)\n",
      "        (13): ReLU(inplace=True)\n",
      "        (14): Conv2d(256, 256, kernel_size=(3, 3), stride=(1, 1), padding=(1, 1), bias=False)\n",
      "        (15): BatchNorm2d(256, eps=1e-05, momentum=0.1, affine=True, track_running_stats=True)\n",
      "        (16): ReLU(inplace=True)\n",
      "        (17): MaxPool2d(kernel_size=(2, 1), stride=(2, 1), padding=0, dilation=1, ceil_mode=False)\n",
      "        (18): Conv2d(256, 256, kernel_size=(2, 2), stride=(1, 1))\n",
      "        (19): ReLU(inplace=True)\n",
      "      )\n",
      "    )\n",
      "    (AdaptiveAvgPool): AdaptiveAvgPool2d(output_size=(None, 1))\n",
      "    (SequenceModeling): Sequential(\n",
      "      (0): BidirectionalLSTM(\n",
      "        (rnn): LSTM(256, 256, batch_first=True, bidirectional=True)\n",
      "        (linear): Linear(in_features=512, out_features=256, bias=True)\n",
      "      )\n",
      "      (1): BidirectionalLSTM(\n",
      "        (rnn): LSTM(256, 256, batch_first=True, bidirectional=True)\n",
      "        (linear): Linear(in_features=512, out_features=256, bias=True)\n",
      "      )\n",
      "    )\n",
      "    (Prediction): Linear(in_features=256, out_features=1009, bias=True)\n",
      "  )\n",
      ")\n",
      "Trainable params num :  4015729\n",
      "Optimizer:\n",
      "Adadelta (\n",
      "Parameter Group 0\n",
      "    differentiable: False\n",
      "    eps: 1e-08\n",
      "    foreach: None\n",
      "    lr: 1\n",
      "    maximize: False\n",
      "    rho: 0.95\n",
      "    weight_decay: 0\n",
      ")\n",
      "------------ Options -------------\n",
      "exp_name: None-VGG-BiLSTM-CTC-Seed1111\n",
      "train_data: C:/workspace_project/AIproject/workspace/AIHubData/byChars/Training/\n",
      "valid_data: C:/workspace_project/AIproject/workspace/AIHubData/byChars/Validation/\n",
      "manualSeed: 1111\n",
      "workers: 0\n",
      "batch_size: 192\n",
      "num_iter: 500\n",
      "valInterval: 100\n",
      "saved_model: C:/workspace_project/AIproject/workspace/pre_trained_model/korean_g2.pth\n",
      "FT: True\n",
      "adam: False\n",
      "lr: 1\n",
      "beta1: 0.9\n",
      "rho: 0.95\n",
      "eps: 1e-08\n",
      "grad_clip: 5\n",
      "baiduCTC: False\n",
      "select_data: ['/']\n",
      "batch_ratio: ['1']\n",
      "total_data_usage_ratio: 1.0\n",
      "batch_max_length: 25\n",
      "imgH: 32\n",
      "imgW: 100\n",
      "rgb: False\n",
      "character:  !\"#$%&'()*+,-./0123456789:;<=>?@ABCDEFGHIJKLMNOPQRSTUVWXYZ[\\]^_`abcdefghijklmnopqrstuvwxyz{|}~가각간갇갈감갑값강갖같갚갛개객걀거걱건걷걸검겁것겉게겨격겪견결겹경곁계고곡곤곧골곰곱곳공과관광괜괴굉교구국군굳굴굵굶굽궁권귀규균그극근글긁금급긋긍기긴길김깅깊까깎깐깔깜깝깥깨꺼꺾껍껏껑께껴꼬꼭꼴꼼꼽꽂꽃꽉꽤꾸꿀꿈뀌끄끈끊끌끓끔끗끝끼낌나낙낚난날낡남납낫낭낮낯낱낳내냄냉냐냥너넉널넓넘넣네넥넷녀녁년념녕노녹논놀놈농높놓놔뇌뇨누눈눕뉘뉴늄느늑는늘늙능늦늬니닐님다닥닦단닫달닭닮담답닷당닿대댁댐더덕던덜덤덥덧덩덮데델도독돈돌돕동돼되된두둑둘둠둡둥뒤뒷드득든듣들듬듭듯등디딩딪따딱딴딸땀땅때땜떠떡떤떨떻떼또똑뚜뚫뚱뛰뜨뜩뜯뜰뜻띄라락란람랍랑랗래랜램랫략량러럭런럴럼럽럿렁렇레렉렌려력련렬렵령례로록론롬롭롯료루룩룹룻뤄류륙률륭르른름릇릎리릭린림립릿마막만많말맑맘맙맛망맞맡맣매맥맨맵맺머먹먼멀멈멋멍멎메멘멩며면멸명몇모목몰몸몹못몽묘무묵묶문묻물뭄뭇뭐뭣므미민믿밀밉밌및밑바박밖반받발밝밟밤밥방밭배백뱀뱃뱉버번벌범법벗베벤벼벽변별볍병볕보복볶본볼봄봇봉뵈뵙부북분불붉붐붓붕붙뷰브블비빌빗빚빛빠빨빵빼뺨뻐뻔뻗뼈뽑뿌뿐쁘쁨사삭산살삶삼상새색샌생서석섞선설섬섭섯성세센셈셋션소속손솔솜솟송솥쇄쇠쇼수숙순술숨숫숲쉬쉽슈스슨슬슴습슷승시식신싣실싫심십싱싶싸싹쌀쌍쌓써썩썰썹쎄쏘쏟쑤쓰쓸씀씌씨씩씬씹씻아악안앉않알앓암압앗앙앞애액야약얇양얗얘어억언얹얻얼엄업없엇엉엌엎에엔엘여역연열엷염엽엿영옆예옛오옥온올옮옳옷와완왕왜왠외왼요욕용우욱운울움웃웅워원월웨웬위윗유육율으윽은을음응의이익인일읽잃임입잇있잊잎자작잔잖잘잠잡장잦재쟁저적전절젊점접젓정젖제젠젯져조족존졸좀좁종좋좌죄주죽준줄줌줍중쥐즈즉즌즐즘증지직진질짐집짓징짙짚짜짝짧째쨌쩌쩍쩐쪽쫓쭈쭉찌찍찢차착찬찮찰참창찾채책챔챙처척천철첫청체쳐초촉촌총촬최추축춘출춤춥춧충취츠측츰층치칙친칠침칭카칸칼캐캠커컨컬컴컵컷켓켜코콜콤콩쾌쿠퀴크큰클큼키킬타탁탄탈탑탓탕태택탤터턱털텅테텍텔템토톤톱통퇴투툼퉁튀튜트특튼튿틀틈티틱팀팅파팎판팔패팩팬퍼퍽페펴편펼평폐포폭표푸푹풀품풍퓨프플픔피픽필핏핑하학한할함합항해핵핸햄햇행향허헌험헤헬혀현혈협형혜호혹혼홀홍화확환활황회획횟효후훈훌훔훨휘휴흉흐흑흔흘흙흡흥흩희흰히힘\n",
      "sensitive: False\n",
      "PAD: False\n",
      "data_filtering_off: False\n",
      "Transformation: None\n",
      "FeatureExtraction: VGG\n",
      "SequenceModeling: BiLSTM\n",
      "Prediction: CTC\n",
      "num_fiducial: 20\n",
      "input_channel: 1\n",
      "output_channel: 256\n",
      "hidden_size: 256\n",
      "num_gpu: 1\n",
      "num_class: 1009\n",
      "---------------------------------------\n",
      "\n",
      "[1/500] Train loss: 7.05197, Valid loss: 5.23743, Elapsed_time: 1.64757\n",
      "Current_accuracy : 22.952, Current_norm_ED  : 0.23\n",
      "Best_accuracy    : 22.952, Best_norm_ED     : 0.23\n",
      "--------------------------------------------------------------------------------\n",
      "Ground Truth              | Prediction                | Confidence Score & T/F\n",
      "--------------------------------------------------------------------------------\n",
      "깔                         | 끝                         | 0.1082\tFalse\n",
      "느                         | 느                         | 0.9065\tTrue\n",
      "푹                         | 푹                         | 0.7821\tTrue\n",
      "닥                         | 탁                         | 0.6956\tFalse\n",
      "까                         | 가                         | 0.8138\tFalse\n",
      "--------------------------------------------------------------------------------\n",
      "[100/500] Train loss: 1.74759, Valid loss: 0.96181, Elapsed_time: 51.57677\n",
      "Current_accuracy : 75.422, Current_norm_ED  : 0.75\n",
      "Best_accuracy    : 75.422, Best_norm_ED     : 0.75\n",
      "--------------------------------------------------------------------------------\n",
      "Ground Truth              | Prediction                | Confidence Score & T/F\n",
      "--------------------------------------------------------------------------------\n",
      "닿                         | 당                         | 0.9268\tFalse\n",
      "아                         | 아                         | 0.6061\tTrue\n",
      "싱                         | 싱                         | 0.5007\tTrue\n",
      "댁                         | 댁                         | 0.9226\tTrue\n",
      "낳                         | 낳                         | 0.8325\tTrue\n",
      "--------------------------------------------------------------------------------\n",
      "[200/500] Train loss: 0.81131, Valid loss: 0.66543, Elapsed_time: 99.85677\n",
      "Current_accuracy : 82.027, Current_norm_ED  : 0.82\n",
      "Best_accuracy    : 82.027, Best_norm_ED     : 0.82\n",
      "--------------------------------------------------------------------------------\n",
      "Ground Truth              | Prediction                | Confidence Score & T/F\n",
      "--------------------------------------------------------------------------------\n",
      "픔                         | 픔                         | 0.9894\tTrue\n",
      "쿠                         | 쿠                         | 0.9514\tTrue\n",
      "헬                         | 헬                         | 0.6337\tTrue\n",
      "운                         | 문                         | 0.8869\tFalse\n",
      "않                         | 않                         | 0.9991\tTrue\n",
      "--------------------------------------------------------------------------------\n",
      "[300/500] Train loss: 0.60921, Valid loss: 0.57151, Elapsed_time: 149.72109\n",
      "Current_accuracy : 85.118, Current_norm_ED  : 0.85\n",
      "Best_accuracy    : 85.118, Best_norm_ED     : 0.85\n",
      "--------------------------------------------------------------------------------\n",
      "Ground Truth              | Prediction                | Confidence Score & T/F\n",
      "--------------------------------------------------------------------------------\n",
      "주                         | 주                         | 0.5646\tTrue\n",
      "홀                         | 홍                         | 0.6966\tFalse\n",
      "컴                         | 침                         | 0.8389\tFalse\n",
      "묘                         | 묘                         | 0.9957\tTrue\n",
      "틈                         | 틈                         | 0.8795\tTrue\n",
      "--------------------------------------------------------------------------------\n",
      "[400/500] Train loss: 0.47771, Valid loss: 0.51028, Elapsed_time: 198.15437\n",
      "Current_accuracy : 86.443, Current_norm_ED  : 0.86\n",
      "Best_accuracy    : 86.443, Best_norm_ED     : 0.86\n",
      "--------------------------------------------------------------------------------\n",
      "Ground Truth              | Prediction                | Confidence Score & T/F\n",
      "--------------------------------------------------------------------------------\n",
      "세                         | 세                         | 0.9926\tTrue\n",
      "모                         | 모                         | 0.9921\tTrue\n",
      "쨌                         | 쨌                         | 0.9507\tTrue\n",
      "공                         | 공                         | 0.8938\tTrue\n",
      "럴                         | 럴                         | 0.6999\tTrue\n",
      "--------------------------------------------------------------------------------\n",
      "[500/500] Train loss: 0.40806, Valid loss: 0.43584, Elapsed_time: 247.32526\n",
      "Current_accuracy : 88.393, Current_norm_ED  : 0.88\n",
      "Best_accuracy    : 88.393, Best_norm_ED     : 0.88\n",
      "--------------------------------------------------------------------------------\n",
      "Ground Truth              | Prediction                | Confidence Score & T/F\n",
      "--------------------------------------------------------------------------------\n",
      "역                         | 역                         | 0.9988\tTrue\n",
      "씬                         | 씬                         | 0.9659\tTrue\n",
      "떨                         | 떨                         | 0.8942\tTrue\n",
      "괜                         | 꽤                         | 0.6946\tFalse\n",
      "롭                         | 롭                         | 0.7252\tTrue\n",
      "--------------------------------------------------------------------------------\n",
      "end the training\n"
     ]
    }
   ],
   "source": [
    "# deep-text-recognition-benchmark 프로젝트를 이용한 모델 학습\n",
    "# deep-text-recognition-benchmark 프로젝트 root에서 실행\n",
    "# EasyOCR에서 사용하는 모델은 'None-VGG-BiLSTM-CTC' 조합이다.\n",
    "!python train.py \\\n",
    "    --train_data C:/workspace_project/AIproject/workspace/AIHubData/byChars/Training/ \\\n",
    "    --valid_data C:/workspace_project/AIproject/workspace/AIHubData/byChars/Validation/ \\\n",
    "    --select_data / \\\n",
    "    --batch_ratio 1 \\\n",
    "    --Transformation None \\\n",
    "    --FeatureExtraction VGG \\\n",
    "    --SequenceModeling BiLSTM \\\n",
    "    --Prediction CTC \\\n",
    "    --workers 0 \\\n",
    "    --num_iter 500 \\\n",
    "    --valInterval 100 \\\n",
    "    --input_channel 1 \\\n",
    "    --output_channel 256 \\\n",
    "    --hidden_size 256 \\\n",
    "    --saved_model C:/workspace_project/AIproject/workspace/pre_trained_model/korean_g2.pth \\\n",
    "    --FT"
   ]
  },
  {
   "cell_type": "markdown",
   "metadata": {},
   "source": [
    "3.4 모델 테스트"
   ]
  },
  {
   "cell_type": "code",
   "execution_count": 11,
   "metadata": {},
   "outputs": [
    {
     "data": {
      "text/plain": [
       "'C:\\\\workspace_project\\\\AIproject\\\\deep-text-recognition-benchmark'"
      ]
     },
     "execution_count": 11,
     "metadata": {},
     "output_type": "execute_result"
    }
   ],
   "source": [
    "os.chdir('C:/workspace_project/AIproject/deep-text-recognition-benchmark')\n",
    "os.getcwd()"
   ]
  },
  {
   "cell_type": "code",
   "execution_count": 18,
   "metadata": {},
   "outputs": [
    {
     "name": "stdout",
     "output_type": "stream",
     "text": [
      "No Transformation module specified\n",
      "model input parameters 32 100 20 1 256 256 1009 25 None VGG BiLSTM CTC\n",
      "loading pretrained model from C:/workspace_project/AIproject/workspace/pre_trained_model/korean_g2.pth\n",
      "dataset_root:    C:/workspace_project/AIproject/workspace/AIHubData/byChars/test/\t dataset: /\n",
      "sub-directory:\t/.\t num samples: 13347\n",
      "13.861\n"
     ]
    }
   ],
   "source": [
    "!python test.py \\\n",
    "    --eval_data C:/workspace_project/AIproject/workspace/AIHubData/byChars/test/ \\\n",
    "    --saved_model C:/workspace_project/AIproject/workspace/pre_trained_model/korean_g2.pth \\\n",
    "    --workers 0 \\\n",
    "    --batch_size 192 \\\n",
    "    --Transformation None \\\n",
    "    --FeatureExtraction VGG \\\n",
    "    --SequenceModeling BiLSTM \\\n",
    "    --Prediction CTC \\\n",
    "    --batch_max_length 25 \\\n",
    "    --imgH 32 \\\n",
    "    --imgW 100 \\\n",
    "    --input_channel 1 \\\n",
    "    --output_channel 256 \\\n",
    "    --hidden_size 256\\"
   ]
  },
  {
   "cell_type": "markdown",
   "metadata": {},
   "source": [
    "# 4.모델 사용하기"
   ]
  },
  {
   "cell_type": "code",
   "execution_count": null,
   "metadata": {},
   "outputs": [],
   "source": [
    "! git clone https://github.com/JaidedAI/EasyOCR.git\n"
   ]
  },
  {
   "cell_type": "code",
   "execution_count": null,
   "metadata": {},
   "outputs": [],
   "source": [
    "import os\n",
    "os.chdir('C:/workspace_project/AIproject/EasyOCR')"
   ]
  },
  {
   "cell_type": "code",
   "execution_count": null,
   "metadata": {},
   "outputs": [],
   "source": [
    "import torch\n",
    "print(f\"Torch CUDA available? : {torch.cuda.is_available()}\")"
   ]
  },
  {
   "cell_type": "code",
   "execution_count": null,
   "metadata": {},
   "outputs": [],
   "source": [
    "!python run.py"
   ]
  },
  {
   "cell_type": "code",
   "execution_count": 19,
   "metadata": {},
   "outputs": [
    {
     "data": {
      "image/png": "[encoded data removed]",
      "text/plain": [
       "<Figure size 640x480 with 1 Axes>"
      ]
     },
     "metadata": {},
     "output_type": "display_data"
    },
    {
     "name": "stdout",
     "output_type": "stream",
     "text": [
      "['\"제품반논곳\\' \\'보니티에 9문동가 표시되픽 엉주증흘 제시하시고 제품지 받이기세요;', 'MFY Side 1 OPD #02 -GSO #63 OTY ITE 01/04/2023 11;14;39 TOTAL 맥도날닫_업 구돈 1 팀산음료 M선택 1,700 맥도날드 업 구론 1,100 1 해피-제로 콜라 1 1955트리끌어니언 7,800 맥도날드 업 구돈 200 1 후렌치 후라이-문단품 2,000 맥도날드 업 구돈 -1,200 Subtotal 8,000 Take-Dut Total (incl YA 8,000 8,000 신용카드 727 TOTAL INCLUDES VAT @F', '부산비씨체크 승인 [고객용]']\n"
     ]
    }
   ],
   "source": [
    "import cv2\n",
    "import easyocr\n",
    "import numpy as np\n",
    "import cv2\n",
    "import matplotlib.pyplot as plt\n",
    "from PIL import ImageFont, ImageDraw, Image\n",
    "\n",
    "reader = easyocr.Reader([\"ko\", \"en\"], gpu=True)\n",
    "result = reader.readtext(\n",
    "    \"C:/workspace_project/AIproject/ocr-preprocessor-main/img_preprocessed.jpg\",\n",
    "    paragraph=True,\n",
    ")\n",
    "result2 = reader.readtext(\n",
    "    \"C:/workspace_project/AIproject/ocr-preprocessor-main/img_preprocessed.jpg\",\n",
    "    detail=0,\n",
    "    paragraph=True,\n",
    ")\n",
    "\n",
    "img = cv2.imread(\n",
    "    \"C:/workspace_project/AIproject/ocr-preprocessor-main/img_preprocessed.jpg\"\n",
    ")\n",
    "\n",
    "img = Image.fromarray(img)\n",
    "\n",
    "font = ImageFont.load_default()\n",
    "font = font.font_variant(size=48)\n",
    "\n",
    "draw = ImageDraw.Draw(img)\n",
    "\n",
    "for i in result:\n",
    "    x = i[0][0][0]\n",
    "    y = i[0][0][1]\n",
    "    w = i[0][1][0] - i[0][0][0]\n",
    "    h = i[0][2][1] - i[0][1][1]\n",
    "\n",
    "    draw.rectangle(((x, y), (x + w, y + h)), outline=\"blue\", width=2)\n",
    "    draw.text((int((x + x + w) / 2), y - 40), str(i[1]), font=font, fill=\"blue\")\n",
    "\n",
    "plt.imshow(img)\n",
    "plt.show()\n",
    "print(result2)"
   ]
  },
  {
   "cell_type": "code",
   "execution_count": null,
   "metadata": {},
   "outputs": [],
   "source": [
    "import os\n",
    "os.chdir('C:/workspace_project/AIproject/ocr-preprocessor-main')"
   ]
  },
  {
   "cell_type": "code",
   "execution_count": null,
   "metadata": {},
   "outputs": [],
   "source": [
    "!python main.py"
   ]
  },
  {
   "cell_type": "code",
   "execution_count": null,
   "metadata": {},
   "outputs": [],
   "source": []
  }
 ],
 "metadata": {
  "kernelspec": {
   "display_name": "directml",
   "language": "python",
   "name": "python3"
  },
  "language_info": {
   "codemirror_mode": {
    "name": "ipython",
    "version": 3
   },
   "file_extension": ".py",
   "mimetype": "text/x-python",
   "name": "python",
   "nbconvert_exporter": "python",
   "pygments_lexer": "ipython3",
   "version": "3.10.12"
  }
 },
 "nbformat": 4,
 "nbformat_minor": 2
}
