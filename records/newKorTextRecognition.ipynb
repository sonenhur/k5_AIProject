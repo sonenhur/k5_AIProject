{
  "cells": [
    {
      "cell_type": "markdown",
      "metadata": {
        "id": "view-in-github",
        "colab_type": "text"
      },
      "source": [
        "<a href=\"https://colab.research.google.com/github/sonenhur/k5_AIProject/blob/main/newKorTextRecognition.ipynb\" target=\"_parent\"><img src=\"https://colab.research.google.com/assets/colab-badge.svg\" alt=\"Open In Colab\"/></a>"
      ]
    },
    {
      "cell_type": "markdown",
      "metadata": {
        "id": "ldO6JYYcmsvf"
      },
      "source": [
        "# 1. 학습 데이터 생성하기"
      ]
    },
    {
      "cell_type": "code",
      "execution_count": null,
      "metadata": {
        "id": "U4LHOQGknJtW"
      },
      "outputs": [],
      "source": [
        "import os"
      ]
    },
    {
      "cell_type": "code",
      "execution_count": null,
      "metadata": {
        "id": "D3ozLTLup6o-",
        "outputId": "a4377e86-fac1-4678-8b48-ec23af9a0beb"
      },
      "outputs": [
        {
          "ename": "FileNotFoundError",
          "evalue": "[WinError 2] 지정된 파일을 찾을 수 없습니다: 'KORTEXT'",
          "output_type": "error",
          "traceback": [
            "\u001b[1;31m---------------------------------------------------------------------------\u001b[0m",
            "\u001b[1;31mFileNotFoundError\u001b[0m                         Traceback (most recent call last)",
            "Cell \u001b[1;32mIn[2], line 1\u001b[0m\n\u001b[1;32m----> 1\u001b[0m \u001b[43mos\u001b[49m\u001b[38;5;241;43m.\u001b[39;49m\u001b[43mchdir\u001b[49m\u001b[43m(\u001b[49m\u001b[38;5;124;43m'\u001b[39;49m\u001b[38;5;124;43mKORTEXT\u001b[39;49m\u001b[38;5;124;43m'\u001b[39;49m\u001b[43m)\u001b[49m\n",
            "\u001b[1;31mFileNotFoundError\u001b[0m: [WinError 2] 지정된 파일을 찾을 수 없습니다: 'KORTEXT'"
          ]
        }
      ],
      "source": [
        "os.chdir('../')"
      ]
    },
    {
      "cell_type": "code",
      "execution_count": null,
      "metadata": {
        "colab": {
          "base_uri": "https://localhost:8080/"
        },
        "id": "jtqdj9ZunNjO",
        "outputId": "40c61170-f118-468c-dcb5-c4a41521e337"
      },
      "outputs": [
        {
          "output_type": "execute_result",
          "data": {
            "text/plain": [
              "'C:\\\\workspace_project\\\\KORtext'"
            ]
          },
          "metadata": {},
          "execution_count": 2
        }
      ],
      "source": [
        "os.getcwd()"
      ]
    },
    {
      "cell_type": "code",
      "execution_count": null,
      "metadata": {
        "id": "d7VBTMcjq7jv"
      },
      "outputs": [],
      "source": [
        "!git clone https://github.com/Belval/TextRecognitionDataGenerator.git"
      ]
    },
    {
      "cell_type": "code",
      "execution_count": null,
      "metadata": {
        "id": "d4qTfaxnrEaW"
      },
      "outputs": [],
      "source": [
        "os.chdir('TextRecognitionDataGenerator')"
      ]
    },
    {
      "cell_type": "code",
      "execution_count": null,
      "metadata": {
        "id": "K980YVPerGMO"
      },
      "outputs": [],
      "source": [
        "!pip install -r requirements.txt"
      ]
    },
    {
      "cell_type": "code",
      "execution_count": null,
      "metadata": {
        "id": "akRPJT7nrJu2"
      },
      "outputs": [],
      "source": [
        "!pip install -r requirements-hw.txt"
      ]
    },
    {
      "cell_type": "code",
      "execution_count": null,
      "metadata": {
        "id": "7zyLmlsPretO"
      },
      "outputs": [],
      "source": [
        "!pip install opencv-python"
      ]
    },
    {
      "cell_type": "code",
      "execution_count": null,
      "metadata": {
        "id": "o0jFIl8MtWzv"
      },
      "outputs": [],
      "source": [
        "os.chdir('trdg')"
      ]
    },
    {
      "cell_type": "code",
      "execution_count": null,
      "metadata": {
        "colab": {
          "base_uri": "https://localhost:8080/"
        },
        "id": "UAE3LCC3tdnm",
        "outputId": "26a9ef98-aa19-4236-fd5e-2678c797c8fe"
      },
      "outputs": [
        {
          "data": {
            "text/plain": [
              "'c:\\\\workspace_project\\\\KORtext\\\\TextRecognitionDataGenerator\\\\trdg'"
            ]
          },
          "execution_count": 10,
          "metadata": {},
          "output_type": "execute_result"
        }
      ],
      "source": [
        "os.getcwd()"
      ]
    },
    {
      "cell_type": "code",
      "execution_count": null,
      "metadata": {
        "id": "uXJbmStoWQhA"
      },
      "outputs": [],
      "source": [
        "#  !python run.py -c 10\n",
        "import os\n",
        "import subprocess"
      ]
    },
    {
      "cell_type": "code",
      "execution_count": null,
      "metadata": {
        "colab": {
          "base_uri": "https://localhost:8080/"
        },
        "id": "OhQs8qoxs6We",
        "outputId": "b0225d51-4771-4f2b-be8b-c224cc43e99b"
      },
      "outputs": [
        {
          "name": "stdout",
          "output_type": "stream",
          "text": [
            "Generation successful\n",
            "Generation successful\n",
            "Generation successful\n",
            "Generation successful\n",
            "Generation successful\n",
            "Generation successful\n",
            "Generation successful\n",
            "Generation successful\n",
            "Generation successful\n",
            "Generation successful\n",
            "Generation successful\n",
            "Generation successful\n",
            "Generation successful\n",
            "Generation successful\n",
            "Generation successful\n",
            "Generation successful\n",
            "Generation successful\n",
            "Generation successful\n",
            "Generation successful\n",
            "Generation successful\n",
            "Generation successful\n",
            "Generation successful\n",
            "Generation successful\n",
            "Generation successful\n",
            "Generation successful\n",
            "Generation successful\n",
            "Generation successful\n",
            "Generation successful\n",
            "Generation successful\n",
            "Generation successful\n",
            "Generation successful\n",
            "Generation successful\n",
            "Generation successful\n",
            "Generation successful\n",
            "Generation successful\n",
            "Generation successful\n",
            "Generation successful\n",
            "Generation successful\n",
            "Generation successful\n",
            "Generation successful\n",
            "Generation successful\n",
            "Generation successful\n",
            "Generation successful\n",
            "Generation successful\n",
            "Generation successful\n",
            "Generation successful\n",
            "Generation successful\n",
            "Generation successful\n",
            "Generation successful\n",
            "Generation successful\n",
            "Generation successful\n",
            "Generation successful\n",
            "Generation successful\n",
            "Generation successful\n",
            "Generation successful\n",
            "Generation successful\n",
            "Generation successful\n",
            "Generation successful\n",
            "Generation successful\n",
            "Generation successful\n",
            "Generation successful\n",
            "Generation successful\n",
            "Generation successful\n",
            "Generation successful\n",
            "Generation successful\n",
            "Generation successful\n",
            "Generation successful\n",
            "Generation successful\n",
            "Generation successful\n",
            "Generation successful\n",
            "Generation successful\n",
            "Generation successful\n",
            "Generation successful\n",
            "Generation successful\n",
            "Generation successful\n",
            "Generation successful\n",
            "Generation successful\n",
            "Generation successful\n",
            "Generation successful\n",
            "Generation successful\n",
            "Generation successful\n",
            "Generation successful\n",
            "Generation successful\n",
            "Generation successful\n",
            "Generation successful\n",
            "Generation successful\n",
            "Generation successful\n",
            "Generation successful\n",
            "Generation successful\n",
            "Generation successful\n",
            "Generation successful\n",
            "Generation successful\n",
            "Generation successful\n",
            "Generation successful\n",
            "Generation successful\n",
            "Generation successful\n",
            "Generation successful\n",
            "Generation successful\n",
            "Generation successful\n",
            "Generation successful\n"
          ]
        }
      ],
      "source": [
        "# train_basic 100\n",
        "for i in range(1, 101):\n",
        "    result = subprocess.run([\"python\", \"run.py\", \"-w\", \"10\", \"-f\", \"64\", \"-l\", \"ko\", \"--output_dir\", \"out/basic\", \"-c\", \"100\"])\n",
        "    if result.returncode != 0:\n",
        "        print(f\"Error occurred: {result.stderr}\")\n",
        "    else:\n",
        "        print(\"Generation successful\")"
      ]
    },
    {
      "cell_type": "code",
      "execution_count": null,
      "metadata": {
        "id": "EqHTrpKKWQhA",
        "outputId": "cb93eb1d-adb5-43b0-eba1-b58ab729fd31"
      },
      "outputs": [
        {
          "name": "stdout",
          "output_type": "stream",
          "text": [
            "Generation successful\n",
            "Generation successful\n",
            "Generation successful\n",
            "Generation successful\n",
            "Generation successful\n",
            "Generation successful\n",
            "Generation successful\n",
            "Generation successful\n",
            "Generation successful\n",
            "Generation successful\n",
            "Generation successful\n",
            "Generation successful\n",
            "Generation successful\n",
            "Generation successful\n",
            "Generation successful\n",
            "Generation successful\n",
            "Generation successful\n",
            "Generation successful\n",
            "Generation successful\n",
            "Generation successful\n",
            "Generation successful\n",
            "Generation successful\n",
            "Generation successful\n",
            "Generation successful\n",
            "Generation successful\n",
            "Generation successful\n",
            "Generation successful\n",
            "Generation successful\n",
            "Generation successful\n",
            "Generation successful\n",
            "Generation successful\n",
            "Generation successful\n",
            "Generation successful\n",
            "Generation successful\n",
            "Generation successful\n",
            "Generation successful\n",
            "Generation successful\n",
            "Generation successful\n",
            "Generation successful\n",
            "Generation successful\n",
            "Generation successful\n",
            "Generation successful\n",
            "Generation successful\n",
            "Generation successful\n",
            "Generation successful\n",
            "Generation successful\n",
            "Generation successful\n",
            "Generation successful\n",
            "Generation successful\n",
            "Generation successful\n"
          ]
        }
      ],
      "source": [
        "# train_skew 100\n",
        "for i in range(1, 51):\n",
        "    result = subprocess.run([\"python\", \"run.py\", \"-w\", \"10\", \"-f\", \"64\", \"-k\", \"5\", \"-rk\", \"-l\", \"ko\", \"--output_dir\", \"out/skew\", \"-c\", \"100\"])\n",
        "    if result.returncode != 0:\n",
        "        print(f\"Error occurred: {result.stderr}\")\n",
        "    else:\n",
        "        print(\"Generation successful\")\n",
        "\n",
        "for i in range(1, 51):\n",
        "    result = subprocess.run([\"python\", \"run.py\", \"-w\", \"10\", \"-f\", \"64\", \"-k\", \"15\", \"-rk\", \"-l\", \"ko\", \"--output_dir\", \"out/skew\", \"-c\", \"100\"])\n",
        "    if result.returncode != 0:\n",
        "        print(f\"Error occurred: {result.stderr}\")\n",
        "    else:\n",
        "        print(\"Generation successful\")"
      ]
    },
    {
      "cell_type": "code",
      "execution_count": null,
      "metadata": {
        "id": "Y8oB2PYGWQhA",
        "outputId": "f9cf9a0a-0137-4570-c471-a45dab5e2942"
      },
      "outputs": [
        {
          "name": "stdout",
          "output_type": "stream",
          "text": [
            "Generation successful\n",
            "Generation successful\n",
            "Generation successful\n",
            "Generation successful\n",
            "Generation successful\n",
            "Generation successful\n",
            "Generation successful\n",
            "Generation successful\n",
            "Generation successful\n",
            "Generation successful\n",
            "Generation successful\n",
            "Generation successful\n",
            "Generation successful\n",
            "Generation successful\n",
            "Generation successful\n",
            "Generation successful\n",
            "Generation successful\n",
            "Generation successful\n",
            "Generation successful\n",
            "Generation successful\n",
            "Generation successful\n",
            "Generation successful\n",
            "Generation successful\n",
            "Generation successful\n",
            "Generation successful\n",
            "Generation successful\n",
            "Generation successful\n",
            "Generation successful\n",
            "Generation successful\n",
            "Generation successful\n",
            "Generation successful\n",
            "Generation successful\n",
            "Generation successful\n",
            "Generation successful\n",
            "Generation successful\n",
            "Generation successful\n",
            "Generation successful\n",
            "Generation successful\n",
            "Generation successful\n",
            "Generation successful\n",
            "Generation successful\n",
            "Generation successful\n",
            "Generation successful\n",
            "Generation successful\n",
            "Generation successful\n",
            "Generation successful\n",
            "Generation successful\n",
            "Generation successful\n",
            "Generation successful\n",
            "Generation successful\n",
            "Generation successful\n",
            "Generation successful\n",
            "Generation successful\n",
            "Generation successful\n",
            "Generation successful\n",
            "Generation successful\n",
            "Generation successful\n",
            "Generation successful\n",
            "Generation successful\n",
            "Generation successful\n",
            "Generation successful\n",
            "Generation successful\n",
            "Generation successful\n",
            "Generation successful\n",
            "Generation successful\n",
            "Generation successful\n",
            "Generation successful\n",
            "Generation successful\n",
            "Generation successful\n",
            "Generation successful\n",
            "Generation successful\n",
            "Generation successful\n",
            "Generation successful\n",
            "Generation successful\n",
            "Generation successful\n",
            "Generation successful\n",
            "Generation successful\n",
            "Generation successful\n",
            "Generation successful\n",
            "Generation successful\n",
            "Generation successful\n",
            "Generation successful\n",
            "Generation successful\n",
            "Generation successful\n",
            "Generation successful\n",
            "Generation successful\n",
            "Generation successful\n",
            "Generation successful\n",
            "Generation successful\n",
            "Generation successful\n",
            "Generation successful\n",
            "Generation successful\n",
            "Generation successful\n",
            "Generation successful\n",
            "Generation successful\n",
            "Generation successful\n",
            "Generation successful\n",
            "Generation successful\n",
            "Generation successful\n"
          ]
        }
      ],
      "source": [
        "# val_distortion 100\n",
        "for i in range(1, 34):\n",
        "    result = subprocess.run([\"python\", \"run.py\", \"-w\", \"10\", \"-f\", \"64\", \"-d\", \"3\", \"-do\", \"0\", \"-l\", \"ko\", \"--output_dir\", \"out/dist\", \"-c\", \"100\"])\n",
        "    if result.returncode != 0:\n",
        "        print(f\"Error occurred: {result.stderr}\")\n",
        "    else:\n",
        "        print(\"Generation successful\")\n",
        "\n",
        "for i in range(1, 34):\n",
        "    result = subprocess.run([\"python\", \"run.py\", \"-w\", \"10\", \"-f\", \"64\", \"-d\", \"3\", \"-do\", \"1\", \"-l\", \"ko\", \"--output_dir\", \"out/dist\", \"-c\", \"100\"])\n",
        "    if result.returncode != 0:\n",
        "        print(f\"Error occurred: {result.stderr}\")\n",
        "    else:\n",
        "        print(\"Generation successful\")\n",
        "\n",
        "for i in range(1, 34):\n",
        "    result = subprocess.run([\"python\", \"run.py\", \"-w\", \"10\", \"-f\", \"64\", \"-d\", \"3\", \"-do\", \"2\", \"-l\", \"ko\", \"--output_dir\", \"out/dist\", \"-c\", \"100\"])\n",
        "    if result.returncode != 0:\n",
        "        print(f\"Error occurred: {result.stderr}\")\n",
        "    else:\n",
        "        print(\"Generation successful\")"
      ]
    },
    {
      "cell_type": "code",
      "execution_count": null,
      "metadata": {
        "id": "5ROkI2KfWQhB",
        "outputId": "f36c2546-943d-4c54-d428-4209fdfd03f4"
      },
      "outputs": [
        {
          "name": "stdout",
          "output_type": "stream",
          "text": [
            "Generation successful\n",
            "Generation successful\n",
            "Generation successful\n",
            "Generation successful\n",
            "Generation successful\n",
            "Generation successful\n",
            "Generation successful\n",
            "Generation successful\n",
            "Generation successful\n",
            "Generation successful\n",
            "Generation successful\n",
            "Generation successful\n",
            "Generation successful\n",
            "Generation successful\n",
            "Generation successful\n",
            "Generation successful\n",
            "Generation successful\n",
            "Generation successful\n",
            "Generation successful\n",
            "Generation successful\n",
            "Generation successful\n",
            "Generation successful\n",
            "Generation successful\n",
            "Generation successful\n",
            "Generation successful\n",
            "Generation successful\n",
            "Generation successful\n",
            "Generation successful\n",
            "Generation successful\n",
            "Generation successful\n",
            "Generation successful\n",
            "Generation successful\n",
            "Generation successful\n",
            "Generation successful\n",
            "Generation successful\n",
            "Generation successful\n",
            "Generation successful\n",
            "Generation successful\n",
            "Generation successful\n",
            "Generation successful\n",
            "Generation successful\n",
            "Generation successful\n",
            "Generation successful\n",
            "Generation successful\n",
            "Generation successful\n",
            "Generation successful\n",
            "Generation successful\n",
            "Generation successful\n",
            "Generation successful\n",
            "Generation successful\n",
            "Generation successful\n",
            "Generation successful\n",
            "Generation successful\n",
            "Generation successful\n",
            "Generation successful\n",
            "Generation successful\n",
            "Generation successful\n",
            "Generation successful\n",
            "Generation successful\n",
            "Generation successful\n",
            "Generation successful\n",
            "Generation successful\n",
            "Generation successful\n",
            "Generation successful\n",
            "Generation successful\n",
            "Generation successful\n",
            "Generation successful\n",
            "Generation successful\n",
            "Generation successful\n",
            "Generation successful\n",
            "Generation successful\n",
            "Generation successful\n",
            "Generation successful\n",
            "Generation successful\n",
            "Generation successful\n",
            "Generation successful\n",
            "Generation successful\n",
            "Generation successful\n",
            "Generation successful\n",
            "Generation successful\n",
            "Generation successful\n",
            "Generation successful\n",
            "Generation successful\n",
            "Generation successful\n",
            "Generation successful\n",
            "Generation successful\n",
            "Generation successful\n",
            "Generation successful\n",
            "Generation successful\n",
            "Generation successful\n",
            "Generation successful\n",
            "Generation successful\n",
            "Generation successful\n",
            "Generation successful\n",
            "Generation successful\n",
            "Generation successful\n",
            "Generation successful\n",
            "Generation successful\n",
            "Generation successful\n"
          ]
        }
      ],
      "source": [
        "# val_blur 100\n",
        "for i in range(1, 34):\n",
        "    result = subprocess.run([\"python\", \"run.py\", \"-w\", \"10\", \"-f\", \"64\", \"-l\", \"ko\", \"-bl\", \"1\", \"--output_dir\", \"out/blur\", \"-c\", \"100\"])\n",
        "    if result.returncode != 0:\n",
        "        print(f\"Error occurred: {result.stderr}\")\n",
        "    else:\n",
        "        print(\"Generation successful\")\n",
        "\n",
        "for i in range(1, 34):\n",
        "    result = subprocess.run([\"python\", \"run.py\", \"-w\", \"10\", \"-f\", \"64\", \"-l\", \"ko\", \"-bl\", \"2\", \"--output_dir\", \"out/blur\", \"-c\", \"100\"])\n",
        "    if result.returncode != 0:\n",
        "        print(f\"Error occurred: {result.stderr}\")\n",
        "    else:\n",
        "        print(\"Generation successful\")\n",
        "\n",
        "for i in range(1, 34):\n",
        "    result = subprocess.run([\"python\", \"run.py\", \"-w\", \"10\", \"-f\", \"64\", \"-l\", \"ko\", \"-bl\", \"4\", \"--output_dir\", \"out/blur\", \"-c\", \"100\"])\n",
        "    if result.returncode != 0:\n",
        "        print(f\"Error occurred: {result.stderr}\")\n",
        "    else:\n",
        "        print(\"Generation successful\")"
      ]
    },
    {
      "cell_type": "code",
      "execution_count": null,
      "metadata": {
        "id": "sb5WCBwHWQhB",
        "outputId": "ee4fe032-9495-4d1f-905e-09a87e136b51"
      },
      "outputs": [
        {
          "name": "stdout",
          "output_type": "stream",
          "text": [
            "Generation successful\n",
            "Generation successful\n",
            "Generation successful\n",
            "Generation successful\n",
            "Generation successful\n",
            "Generation successful\n",
            "Generation successful\n",
            "Generation successful\n",
            "Generation successful\n",
            "Generation successful\n",
            "Generation successful\n",
            "Generation successful\n",
            "Generation successful\n",
            "Generation successful\n",
            "Generation successful\n",
            "Generation successful\n",
            "Generation successful\n",
            "Generation successful\n",
            "Generation successful\n",
            "Generation successful\n",
            "Generation successful\n",
            "Generation successful\n",
            "Generation successful\n",
            "Generation successful\n",
            "Generation successful\n",
            "Generation successful\n",
            "Generation successful\n",
            "Generation successful\n",
            "Generation successful\n",
            "Generation successful\n",
            "Generation successful\n",
            "Generation successful\n",
            "Generation successful\n",
            "Generation successful\n",
            "Generation successful\n",
            "Generation successful\n",
            "Generation successful\n",
            "Generation successful\n",
            "Generation successful\n",
            "Generation successful\n",
            "Generation successful\n",
            "Generation successful\n",
            "Generation successful\n",
            "Generation successful\n",
            "Generation successful\n",
            "Generation successful\n",
            "Generation successful\n",
            "Generation successful\n",
            "Generation successful\n",
            "Generation successful\n",
            "Generation successful\n",
            "Generation successful\n",
            "Generation successful\n",
            "Generation successful\n",
            "Generation successful\n",
            "Generation successful\n",
            "Generation successful\n",
            "Generation successful\n",
            "Generation successful\n",
            "Generation successful\n",
            "Generation successful\n",
            "Generation successful\n",
            "Generation successful\n",
            "Generation successful\n",
            "Generation successful\n",
            "Generation successful\n",
            "Generation successful\n",
            "Generation successful\n",
            "Generation successful\n",
            "Generation successful\n",
            "Generation successful\n",
            "Generation successful\n",
            "Generation successful\n",
            "Generation successful\n",
            "Generation successful\n",
            "Generation successful\n",
            "Generation successful\n",
            "Generation successful\n",
            "Generation successful\n",
            "Generation successful\n",
            "Generation successful\n",
            "Generation successful\n",
            "Generation successful\n",
            "Generation successful\n",
            "Generation successful\n",
            "Generation successful\n",
            "Generation successful\n",
            "Generation successful\n",
            "Generation successful\n",
            "Generation successful\n",
            "Generation successful\n",
            "Generation successful\n",
            "Generation successful\n",
            "Generation successful\n",
            "Generation successful\n",
            "Generation successful\n",
            "Generation successful\n",
            "Generation successful\n",
            "Generation successful\n"
          ]
        }
      ],
      "source": [
        "# val_background 100\n",
        "for i in range(1, 34):\n",
        "    result = subprocess.run([\"python\", \"run.py\", \"-w\", \"10\", \"-f\", \"64\", \"-l\", \"ko\", \"-b\", \"0\", \"--output_dir\", \"out/back\", \"-c\", \"100\"])\n",
        "    if result.returncode != 0:\n",
        "        print(f\"Error occurred: {result.stderr}\")\n",
        "    else:\n",
        "        print(\"Generation successful\")\n",
        "\n",
        "for i in range(1, 34):\n",
        "    result = subprocess.run([\"python\", \"run.py\", \"-w\", \"10\", \"-f\", \"64\", \"-l\", \"ko\", \"-b\", \"1\", \"--output_dir\", \"out/back\", \"-c\", \"100\"])\n",
        "    if result.returncode != 0:\n",
        "        print(f\"Error occurred: {result.stderr}\")\n",
        "    else:\n",
        "        print(\"Generation successful\")\n",
        "\n",
        "for i in range(1, 34):\n",
        "    result = subprocess.run([\"python\", \"run.py\", \"-w\", \"10\", \"-f\", \"64\", \"-l\", \"ko\", \"-b\", \"2\", \"--output_dir\", \"out/back\", \"-c\", \"100\"])\n",
        "    if result.returncode != 0:\n",
        "        print(f\"Error occurred: {result.stderr}\")\n",
        "    else:\n",
        "        print(\"Generation successful\")"
      ]
    },
    {
      "cell_type": "code",
      "execution_count": null,
      "metadata": {
        "id": "aUDd7ASvWQhB",
        "outputId": "b0b5bcd8-f341-43a5-8b37-d5f2ed511081"
      },
      "outputs": [
        {
          "data": {
            "text/plain": [
              "'c:\\\\workspace_project\\\\KORtext\\\\TextRecognitionDataGenerator\\\\trdg'"
            ]
          },
          "execution_count": 48,
          "metadata": {},
          "output_type": "execute_result"
        }
      ],
      "source": [
        "os.getcwd()"
      ]
    },
    {
      "cell_type": "code",
      "execution_count": null,
      "metadata": {
        "id": "6k_5iaoeWQhB"
      },
      "outputs": [],
      "source": [
        "import os\n",
        "\n",
        "def create_gt_file(folder_name):\n",
        "    search_dir = os.path.join('out', folder_name)\n",
        "\n",
        "    with open(f'gt_{folder_name}.txt', 'w') as f:\n",
        "        for entry in os.listdir(search_dir):\n",
        "            file_dir = os.path.join(search_dir, entry)\n",
        "            filename = os.path.basename(file_dir)\n",
        "            label = filename.rsplit('_', 1)[0]\n",
        "            f.write(f\"{file_dir}\\t{label}\\n\")\n",
        "\n",
        "# 사용 예시\n",
        "create_gt_file('basic')\n",
        "create_gt_file('skew')\n",
        "create_gt_file('dist')\n",
        "create_gt_file('blur')\n",
        "create_gt_file('back')"
      ]
    },
    {
      "cell_type": "code",
      "execution_count": null,
      "metadata": {
        "id": "AJAlVBetWQhB",
        "outputId": "97c4e757-e092-4f13-c96c-33ec43a80991"
      },
      "outputs": [
        {
          "name": "stdout",
          "output_type": "stream",
          "text": [
            "Requirement already satisfied: fire in c:\\users\\user\\anaconda3\\lib\\site-packages (0.5.0)\n",
            "Requirement already satisfied: lmdb in c:\\users\\user\\anaconda3\\lib\\site-packages (1.4.1)\n",
            "Requirement already satisfied: opencv-python in c:\\users\\user\\anaconda3\\lib\\site-packages (4.9.0.80)\n",
            "Requirement already satisfied: numpy in c:\\users\\user\\anaconda3\\lib\\site-packages (1.26.4)\n",
            "Requirement already satisfied: six in c:\\users\\user\\appdata\\roaming\\python\\python311\\site-packages (from fire) (1.16.0)\n",
            "Requirement already satisfied: termcolor in c:\\users\\user\\anaconda3\\lib\\site-packages (from fire) (2.4.0)\n"
          ]
        }
      ],
      "source": [
        "!pip install fire lmdb opencv-python numpy\n"
      ]
    },
    {
      "cell_type": "code",
      "execution_count": null,
      "metadata": {
        "id": "bar_7pO5WQhC"
      },
      "outputs": [],
      "source": [
        "import lmdb"
      ]
    },
    {
      "cell_type": "code",
      "source": [
        "os.chdir('./TextRecognitionDataGenerator/trdg')"
      ],
      "metadata": {
        "id": "1v6EnDI3Wl97"
      },
      "execution_count": null,
      "outputs": []
    },
    {
      "cell_type": "code",
      "execution_count": null,
      "metadata": {
        "colab": {
          "base_uri": "https://localhost:8080/"
        },
        "id": "qzZtee6VWQhC",
        "outputId": "d7014526-ddf3-4274-9f2d-0e6b6e1fce5d"
      },
      "outputs": [
        {
          "output_type": "execute_result",
          "data": {
            "text/plain": [
              "'C:\\\\workspace_project\\\\KORtext\\\\TextRecognitionDataGenerator\\\\trdg'"
            ]
          },
          "metadata": {},
          "execution_count": 6
        }
      ],
      "source": [
        "os.getcwd()"
      ]
    },
    {
      "cell_type": "code",
      "execution_count": null,
      "metadata": {
        "colab": {
          "base_uri": "https://localhost:8080/"
        },
        "id": "9zSAk5hOWQhC",
        "outputId": "1fdbf14f-bd3c-4d19-a2e6-74f5ee0023c3"
      },
      "outputs": [
        {
          "output_type": "stream",
          "name": "stderr",
          "text": [
            "Traceback (most recent call last):\n",
            "  File \"C:\\workspace_project\\KORtext\\TextRecognitionDataGenerator\\trdg\\create_lmdb_dataset.py\", line 87, in <module>\n",
            "    fire.Fire(createDataset)\n",
            "  File \"C:\\Users\\user\\anaconda3\\envs\\torch_book\\lib\\site-packages\\fire\\core.py\", line 141, in Fire\n",
            "    component_trace = _Fire(component, args, parsed_flag_args, context, name)\n",
            "  File \"C:\\Users\\user\\anaconda3\\envs\\torch_book\\lib\\site-packages\\fire\\core.py\", line 475, in _Fire\n",
            "    component, remaining_args = _CallAndUpdateTrace(\n",
            "  File \"C:\\Users\\user\\anaconda3\\envs\\torch_book\\lib\\site-packages\\fire\\core.py\", line 691, in _CallAndUpdateTrace\n",
            "    component = fn(*varargs, **kwargs)\n",
            "  File \"C:\\workspace_project\\KORtext\\TextRecognitionDataGenerator\\trdg\\create_lmdb_dataset.py\", line 38, in createDataset\n",
            "    env = lmdb.open(outputPath, map_size=1099511627776)\n",
            "lmdb.Error: /training/basic/: \\ufffd\\ufffd\\u0169 \\ufffd\\ufffd\\ufffd\\ufffd\\ufffd\\ufffd \\ufffd\\ufffd\\ufffd\\ufffd\\ufffd\\u0574\\u03f4\\ufffd.\n",
            "\n",
            "\n"
          ]
        }
      ],
      "source": [
        "!python create_lmdb_dataset.py --inputPath /out/basic --gtFile out/gt_basic.txt --outputPath /training/basic/\n"
      ]
    },
    {
      "cell_type": "code",
      "execution_count": null,
      "metadata": {
        "id": "ikJi0oJAnGDY"
      },
      "outputs": [],
      "source": [
        "# TextRecognitionDataGenerator 프로젝트를 이용해 한글 학습데이터 생성하기\n",
        "# TextRecognitionDataGenerator 프로젝트 root에서 실행\n",
        "\n",
        "# training: 10,000개\n",
        "!python ./trdg/run.py -c 10000 -l ko \\\n",
        "        --output_dir \"./workspace/step1/training/kordata\"\n",
        "\n",
        "# validation: 1,000개\n",
        "!python ./trdg/run.py -c 10000 -l ko \\\n",
        "        --output_dir \"./workspace/step1/validation/kordata\"\n",
        "\n",
        "\n",
        "# test: 1,000개\n",
        "!python ./trdg/run.py -c 10000 -l ko \\\n",
        "        --output_dir \"./workspace/step1/test/kordata\""
      ]
    },
    {
      "cell_type": "markdown",
      "metadata": {
        "id": "-I8b7DDbyZh2"
      },
      "source": [
        "# 2. 학습데이터 변환"
      ]
    },
    {
      "cell_type": "code",
      "execution_count": null,
      "metadata": {
        "id": "viW-cVehyiu_"
      },
      "outputs": [],
      "source": [
        "os.chdir('../')"
      ]
    },
    {
      "cell_type": "code",
      "execution_count": null,
      "metadata": {
        "id": "K7Gbz4_QykPD"
      },
      "outputs": [],
      "source": [
        "os.getcwd()"
      ]
    },
    {
      "cell_type": "code",
      "execution_count": null,
      "metadata": {
        "id": "4uVJFDJHylHR"
      },
      "outputs": [],
      "source": [
        "!git clone https://github.com/DaveLogs/TRDG2DTRB.git"
      ]
    },
    {
      "cell_type": "code",
      "execution_count": null,
      "metadata": {
        "id": "6uXZ5wGkymeQ"
      },
      "outputs": [],
      "source": [
        "os.chdir('TRDG2DTRB')"
      ]
    },
    {
      "cell_type": "code",
      "execution_count": null,
      "metadata": {
        "id": "8D-NMGYczFuj"
      },
      "outputs": [],
      "source": [
        "os.getcwd()"
      ]
    },
    {
      "cell_type": "code",
      "execution_count": null,
      "metadata": {
        "id": "pP911O13zG8D"
      },
      "outputs": [],
      "source": [
        "# TRDG2DTRB 프로젝트를 이용해 한글 학습데이터 변환하기\n",
        "# TRDG2DTRB 프로젝트 root에서 실행\n",
        "!python convert.py \\\n",
        "        --input_path \"../TextRecognitionDataGenerator/workspace/step1/training/kordata\" \\\n",
        "        --output_path \"./workspace/step2/training/kordata\"\n",
        "\n",
        "# validation 학습데이터 변환\n",
        "!python convert.py \\\n",
        "        --input_path \"../TextRecognitionDataGenerator/workspace/step1/validation/kordata\" \\\n",
        "        --output_path \"./workspace/step2/validation/kordata\"\n",
        "\n",
        "# test 학습데이터 변환\n",
        "!python convert.py \\\n",
        "        --input_path \"../TextRecognitionDataGenerator/workspace/step1/test/kordata\" \\\n",
        "        --output_path \"./workspace/step2/test/kordata\""
      ]
    },
    {
      "cell_type": "markdown",
      "metadata": {
        "id": "NyxSNChsFwA3"
      },
      "source": [
        "# 3. 학습용 데이터 포맷 lmdb 형태로 변환"
      ]
    },
    {
      "cell_type": "code",
      "execution_count": null,
      "metadata": {
        "id": "WLSm9kc_F3VH"
      },
      "outputs": [],
      "source": [
        "os.getcwd()"
      ]
    },
    {
      "cell_type": "code",
      "execution_count": null,
      "metadata": {
        "id": "yA4ZTM7KF5E-"
      },
      "outputs": [],
      "source": [
        "os.chdir('deep-text-recognition-benchmark')"
      ]
    },
    {
      "cell_type": "code",
      "execution_count": null,
      "metadata": {
        "id": "aD2sMXC-F6ZW"
      },
      "outputs": [],
      "source": [
        "!git clone https://github.com/clovaai/deep-text-recognition-benchmark.git"
      ]
    },
    {
      "cell_type": "code",
      "execution_count": null,
      "metadata": {
        "id": "p8ROnKfEGpru",
        "scrolled": true
      },
      "outputs": [],
      "source": [
        "!pip install torch torchvision\n",
        "!pip install lmdb pillow nltk natsort\n",
        "!pip install fire\n",
        "!pip install lmdb"
      ]
    },
    {
      "cell_type": "code",
      "execution_count": null,
      "metadata": {
        "id": "PFTP1ufWHQYH"
      },
      "outputs": [],
      "source": [
        "import os\n",
        "import lmdb"
      ]
    },
    {
      "cell_type": "code",
      "execution_count": null,
      "metadata": {
        "id": "YV74u3vWFsGt"
      },
      "outputs": [],
      "source": [
        "# deep-text-recognition-benchmark 프로젝트에서 사용할 학습데이터 포맷으로의 변환\n",
        "# deep-text-recognition-benchmark 프로젝트 root에서 실행\n",
        "!python create_lmdb_dataset.py \\\n",
        "        --inputPath \"./workspace/step2/training/kordata/\" \\\n",
        "        --gtFile \"./workspace/step2/training/kordata/gt.txt\" \\\n",
        "        --outputPath \"./workspace/step3/training/kordata/\"\n",
        "\n",
        "# # validation 데이터 변환\n",
        "!python create_lmdb_dataset.py \\\n",
        "        --inputPath \"./workspace/step2/validation/kordata/\" \\\n",
        "        --gtFile \"./workspace/step2/validation/kordata/gt.txt\" \\\n",
        "        --outputPath \"./workspace/step3/validation/kordata/\"\n",
        "\n",
        "# # test 데이터 변환\n",
        "!python create_lmdb_dataset.py \\\n",
        "        --inputPath \"./workspace/step2/test/kordata\" \\\n",
        "        --gtFile \"./workspace/step2/test/kordata/gt.txt\" \\\n",
        "        --outputPath \"./workspace/step3/test/kordata/\""
      ]
    },
    {
      "cell_type": "code",
      "execution_count": null,
      "metadata": {
        "id": "guVZQsWrWQhE"
      },
      "outputs": [],
      "source": []
    }
  ],
  "metadata": {
    "colab": {
      "provenance": [],
      "include_colab_link": true
    },
    "kernelspec": {
      "display_name": "tf2_book",
      "language": "python",
      "name": "tf2_book"
    },
    "language_info": {
      "codemirror_mode": {
        "name": "ipython",
        "version": 3
      },
      "file_extension": ".py",
      "mimetype": "text/x-python",
      "name": "python",
      "nbconvert_exporter": "python",
      "pygments_lexer": "ipython3",
      "version": "3.11.5"
    }
  },
  "nbformat": 4,
  "nbformat_minor": 0
}
